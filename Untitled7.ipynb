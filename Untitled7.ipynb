{
  "nbformat": 4,
  "nbformat_minor": 0,
  "metadata": {
    "colab": {
      "provenance": [],
      "mount_file_id": "1_uA_ofwo0jrvpVe8CA8amAj_QcLvNB7i",
      "authorship_tag": "ABX9TyMTcbFYk7BfEReEVJfxoidf",
      "include_colab_link": true
    },
    "kernelspec": {
      "name": "python3",
      "display_name": "Python 3"
    },
    "language_info": {
      "name": "python"
    }
  },
  "cells": [
    {
      "cell_type": "markdown",
      "metadata": {
        "id": "view-in-github",
        "colab_type": "text"
      },
      "source": [
        "<a href=\"https://colab.research.google.com/github/walidwindev/DA-100KO-Analyzing-Data-with-Power-BI/blob/master/Untitled7.ipynb\" target=\"_parent\"><img src=\"https://colab.research.google.com/assets/colab-badge.svg\" alt=\"Open In Colab\"/></a>"
      ]
    },
    {
      "cell_type": "code",
      "source": [
        "import pandas as pd\n",
        "from sklearn.model_selection import train_test_split\n",
        "from sklearn.ensemble import RandomForestClassifier\n",
        "import xgboost as xgb\n",
        "\n",
        "# Chargement des données à partir du fichier CSV\n",
        "data = pd.read_csv(\"/content/drive/MyDrive/breast+cancer+wisconsin+diagnostic/wdbc.data\")\n",
        "\n",
        "# Séparation des caractéristiques et de la variable cible\n",
        "X = data.iloc[:, 2:]  # Exclusion des deux premières colonnes (ID et Diagnostic)\n",
        "y = data.iloc[:, 1]  # Variable cible : Diagnostic\n",
        "# Conversion des valeurs de la variable cible\n",
        "y = data.iloc[:, 1].map({'B': 0, 'M': 1})\n",
        "\n",
        "\n",
        "# Division des données en ensembles d'entraînement et de test\n",
        "X_train, X_test, y_train, y_test = train_test_split(X, y, test_size=0.2, random_state=42)\n",
        "\n",
        "# Entraînement du modèle Random Forest\n",
        "rf_model = RandomForestClassifier()\n",
        "rf_model.fit(X_train, y_train)\n",
        "\n",
        "# Prédiction sur l'ensemble de test avec Random Forest\n",
        "rf_predictions = rf_model.predict(X_test)\n",
        "\n",
        "# Entraînement du modèle XGBoost\n",
        "\n",
        "\n",
        "xgb_model = xgb.XGBClassifier()\n",
        "xgb_model.fit(X_train, y_train)\n",
        "\n",
        "# Prédiction sur l'ensemble de test avec XGBoost\n",
        "xgb_predictions = xgb_model.predict(X_test)\n",
        "\n",
        "# Évaluation des performances des modèles\n",
        "rf_accuracy = (rf_predictions == y_test).mean()\n",
        "xgb_accuracy = (xgb_predictions == y_test).mean()\n",
        "\n",
        "print(\"Précision du modèle Random Forest :\", rf_accuracy)\n",
        "print(\"Précision du modèle XGBoost :\", xgb_accuracy)\n"
      ],
      "metadata": {
        "colab": {
          "base_uri": "https://localhost:8080/"
        },
        "id": "_dZOVKELhzMH",
        "outputId": "9ec58d31-08f4-4333-f926-47816232c4d5"
      },
      "execution_count": 6,
      "outputs": [
        {
          "output_type": "stream",
          "name": "stdout",
          "text": [
            "Précision du modèle Random Forest : 0.9385964912280702\n",
            "Précision du modèle XGBoost : 0.9385964912280702\n"
          ]
        }
      ]
    },
    {
      "cell_type": "code",
      "source": [],
      "metadata": {
        "id": "jo3a4OnSk5Y8"
      },
      "execution_count": null,
      "outputs": []
    },
    {
      "cell_type": "code",
      "source": [
        "import pandas as pd\n",
        "from sklearn.model_selection import train_test_split\n",
        "from sklearn.ensemble import RandomForestClassifier\n",
        "import xgboost as xgb\n",
        "\n",
        "# Chargement des données à partir du fichier CSV\n",
        "data = pd.read_csv(\"/content/drive/MyDrive/breast+cancer+wisconsin+diagnostic/wdbc.data\")\n",
        "\n",
        "\n",
        "\n",
        "# Séparation des caractéristiques (X) et de la variable cible (y)\n",
        "X = data.iloc[:, 2:]\n",
        "# Conversion des valeurs de la variable cible\n",
        "y = data.iloc[:, 1].map({'B': 0, 'M': 1})\n",
        "\n",
        "# Division des données en ensembles d'entraînement et de test\n",
        "X_train, X_test, y_train, y_test = train_test_split(X, y, test_size=0.2, random_state=42)\n",
        "\n",
        "# Entraînement du modèle XGBoost\n",
        "xgb_model = xgb.XGBClassifier()\n",
        "xgb_model.fit(X_train, y_train)\n",
        "\n",
        "# Prédiction sur l'ensemble de test avec XGBoost\n",
        "xgb_predictions = xgb_model.predict(X_test)\n",
        "\n",
        "# Évaluation des performances du modèle XGBoost\n",
        "xgb_accuracy = (xgb_predictions == y_test).mean()\n",
        "\n",
        "print(\"Précision du modèle XGBoost :\", xgb_accuracy)\n"
      ],
      "metadata": {
        "colab": {
          "base_uri": "https://localhost:8080/"
        },
        "id": "H2i3-GLSigpm",
        "outputId": "b555126b-2265-4742-c60d-e8bddbb18143"
      },
      "execution_count": 11,
      "outputs": [
        {
          "output_type": "stream",
          "name": "stdout",
          "text": [
            "Précision du modèle XGBoost : 0.9385964912280702\n"
          ]
        }
      ]
    },
    {
      "cell_type": "code",
      "source": [
        "import pandas as pd\n",
        "from sklearn.model_selection import train_test_split\n",
        "from sklearn.ensemble import RandomForestClassifier\n",
        "from sklearn.metrics import accuracy_score, precision_score\n",
        "import xgboost as xgb\n",
        "\n",
        "# Load data from the CSV file\n",
        "data = pd.read_csv(\"/content/drive/MyDrive/breast+cancer+wisconsin+diagnostic/wdbc.data\")\n",
        "\n",
        "\n",
        "\n",
        "# Separate features (X) and the target variable (y)\n",
        "X = data.iloc[:, 2:]\n",
        "y = data.iloc[:, 1].map({'B': 0, 'M': 1})\n",
        "\n",
        "# Split the data into training and test sets\n",
        "X_train, X_test, y_train, y_test = train_test_split(X, y, test_size=0.2, random_state=42)\n",
        "\n",
        "# Train the Random Forest model\n",
        "rf_model = RandomForestClassifier()\n",
        "rf_model.fit(X_train, y_train)\n",
        "\n",
        "# Predict on the test set with Random Forest\n",
        "rf_predictions = rf_model.predict(X_test)\n",
        "\n",
        "# Calculate accuracy and precision for Random Forest\n",
        "rf_accuracy = accuracy_score(y_test, rf_predictions)\n",
        "rf_precision = precision_score(y_test, rf_predictions)\n",
        "\n",
        "print(\"Random Forest:\")\n",
        "print(\"Accuracy:\", rf_accuracy)\n",
        "print(\"Precision:\", rf_precision)\n",
        "\n",
        "# Train the XGBoost model\n",
        "xgb_model = xgb.XGBClassifier()\n",
        "xgb_model.fit(X_train, y_train)\n",
        "\n",
        "# Predict on the test set with XGBoost\n",
        "xgb_predictions = xgb_model.predict(X_test)\n",
        "\n",
        "# Calculate accuracy and precision for XGBoost\n",
        "xgb_accuracy = accuracy_score(y_test, xgb_predictions)\n",
        "xgb_precision = precision_score(y_test, xgb_predictions)\n",
        "\n",
        "print(\"XGBoost:\")\n",
        "print(\"Accuracy:\", xgb_accuracy)\n",
        "print(\"Precision:\", xgb_precision)\n"
      ],
      "metadata": {
        "colab": {
          "base_uri": "https://localhost:8080/"
        },
        "id": "RFcF1G0vk6Z8",
        "outputId": "99cd24e3-e62d-4097-d914-80a050e91759"
      },
      "execution_count": 10,
      "outputs": [
        {
          "output_type": "stream",
          "name": "stdout",
          "text": [
            "Random Forest:\n",
            "Accuracy: 0.956140350877193\n",
            "Precision: 1.0\n",
            "XGBoost:\n",
            "Accuracy: 0.9385964912280702\n",
            "Precision: 0.9534883720930233\n"
          ]
        }
      ]
    }
  ]
}